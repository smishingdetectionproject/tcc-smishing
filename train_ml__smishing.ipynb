{
  "nbformat": 4,
  "nbformat_minor": 0,
  "metadata": {
    "colab": {
      "provenance": [],
      "collapsed_sections": [
        "Dkd5U-JFHddU"
      ],
      "authorship_tag": "ABX9TyPDu9n8miQyFjTL+uV46Hrq",
      "include_colab_link": true
    },
    "kernelspec": {
      "name": "python3",
      "display_name": "Python 3"
    },
    "language_info": {
      "name": "python"
    }
  },
  "cells": [
    {
      "cell_type": "markdown",
      "metadata": {
        "id": "view-in-github",
        "colab_type": "text"
      },
      "source": [
        "<a href=\"https://colab.research.google.com/github/telmacarvalho/tcc-smishing/blob/main/train_ml__smishing.ipynb\" target=\"_parent\"><img src=\"https://colab.research.google.com/assets/colab-badge.svg\" alt=\"Open In Colab\"/></a>"
      ]
    },
    {
      "cell_type": "markdown",
      "source": [
        "# Treinamento dos modelos de *Machine Learning*"
      ],
      "metadata": {
        "id": "avSQyEbZF2Z3"
      }
    },
    {
      "cell_type": "markdown",
      "source": [
        "## Importa bibliotecas"
      ],
      "metadata": {
        "id": "2nOIeQckIxxo"
      }
    },
    {
      "cell_type": "code",
      "execution_count": 28,
      "metadata": {
        "id": "KggNGLGjInZe"
      },
      "outputs": [],
      "source": [
        "# Manipulação de dados\n",
        "import pandas as pd\n",
        "import joblib"
      ]
    },
    {
      "cell_type": "code",
      "execution_count": 29,
      "metadata": {
        "id": "6JgtiqpnFanb"
      },
      "outputs": [],
      "source": [
        "# Machine Learning Clássico (Scikit-Learn)\n",
        "from sklearn.model_selection import train_test_split\n",
        "from sklearn.feature_extraction.text import TfidfVectorizer\n",
        "from sklearn.naive_bayes import ComplementNB\n",
        "from sklearn.ensemble import RandomForestClassifier\n",
        "from sklearn.metrics import classification_report"
      ]
    },
    {
      "cell_type": "markdown",
      "source": [
        "## 5. Extração dos dados da pasta *refined*"
      ],
      "metadata": {
        "id": "Dkd5U-JFHddU"
      }
    },
    {
      "cell_type": "code",
      "source": [
        "# Autoriza acesso ao Google Drive\n",
        "from google.colab import drive\n",
        "drive.mount('/content/drive')"
      ],
      "metadata": {
        "colab": {
          "base_uri": "https://localhost:8080/"
        },
        "id": "pAlmqNsYHM4u",
        "outputId": "dcfa6071-57b7-4fed-b99d-9f5ccdae35c1"
      },
      "execution_count": 30,
      "outputs": [
        {
          "output_type": "stream",
          "name": "stdout",
          "text": [
            "Drive already mounted at /content/drive; to attempt to forcibly remount, call drive.mount(\"/content/drive\", force_remount=True).\n"
          ]
        }
      ]
    },
    {
      "cell_type": "code",
      "source": [
        "# Extrai os dados refinados da pasta refined\n",
        "project_path = '/content/drive/MyDrive/tcc/'\n",
        "file_path = f'{project_path}data/refined/data_processed.csv'\n",
        "df = pd.read_csv(file_path)\n",
        "df.head()"
      ],
      "metadata": {
        "colab": {
          "base_uri": "https://localhost:8080/",
          "height": 0
        },
        "id": "U3Au-kqeIpby",
        "outputId": "a822ddc6-c787-4f5d-d58b-5e812d5deb46"
      },
      "execution_count": 31,
      "outputs": [
        {
          "output_type": "execute_result",
          "data": {
            "text/plain": [
              "    id source                                               text       label  \\\n",
              "0  1_0    sms  Oi, peço para transferir aquele valor para meu...  Legitimate   \n",
              "1  2_0    sms  Bom dia babe..tudo bem? Não se esqueça de liga...  Legitimate   \n",
              "2  3_0    sms  AEN8AFWXJHC Confirmado. Compraste  19.00MT de ...  Legitimate   \n",
              "3  4_0    sms  7GD04E51YZM. Caro Cliente, o codigo para efect...  Legitimate   \n",
              "4  5_0    sms   Bom dia babe. Está bem. Vou comprar.\\nBoa viagem  Legitimate   \n",
              "\n",
              "   comprimento                                   texto_processado  \n",
              "0           71                      oi peo transfer val mpes nmer  \n",
              "1           85    bom dia babetud bem esque lig pra tio boss h bj  \n",
              "2          157  aenafwxjhc confirm compr mt credit pmo nov sal...  \n",
              "3          189  gdeyzm car client codig efectu levant cont mpe...  \n",
              "4           47             bom dia bab est bem vou compr boa viag  "
            ],
            "text/html": [
              "\n",
              "  <div id=\"df-02d90ba8-d729-4cb9-88e5-dd0c96d6f73c\" class=\"colab-df-container\">\n",
              "    <div>\n",
              "<style scoped>\n",
              "    .dataframe tbody tr th:only-of-type {\n",
              "        vertical-align: middle;\n",
              "    }\n",
              "\n",
              "    .dataframe tbody tr th {\n",
              "        vertical-align: top;\n",
              "    }\n",
              "\n",
              "    .dataframe thead th {\n",
              "        text-align: right;\n",
              "    }\n",
              "</style>\n",
              "<table border=\"1\" class=\"dataframe\">\n",
              "  <thead>\n",
              "    <tr style=\"text-align: right;\">\n",
              "      <th></th>\n",
              "      <th>id</th>\n",
              "      <th>source</th>\n",
              "      <th>text</th>\n",
              "      <th>label</th>\n",
              "      <th>comprimento</th>\n",
              "      <th>texto_processado</th>\n",
              "    </tr>\n",
              "  </thead>\n",
              "  <tbody>\n",
              "    <tr>\n",
              "      <th>0</th>\n",
              "      <td>1_0</td>\n",
              "      <td>sms</td>\n",
              "      <td>Oi, peço para transferir aquele valor para meu...</td>\n",
              "      <td>Legitimate</td>\n",
              "      <td>71</td>\n",
              "      <td>oi peo transfer val mpes nmer</td>\n",
              "    </tr>\n",
              "    <tr>\n",
              "      <th>1</th>\n",
              "      <td>2_0</td>\n",
              "      <td>sms</td>\n",
              "      <td>Bom dia babe..tudo bem? Não se esqueça de liga...</td>\n",
              "      <td>Legitimate</td>\n",
              "      <td>85</td>\n",
              "      <td>bom dia babetud bem esque lig pra tio boss h bj</td>\n",
              "    </tr>\n",
              "    <tr>\n",
              "      <th>2</th>\n",
              "      <td>3_0</td>\n",
              "      <td>sms</td>\n",
              "      <td>AEN8AFWXJHC Confirmado. Compraste  19.00MT de ...</td>\n",
              "      <td>Legitimate</td>\n",
              "      <td>157</td>\n",
              "      <td>aenafwxjhc confirm compr mt credit pmo nov sal...</td>\n",
              "    </tr>\n",
              "    <tr>\n",
              "      <th>3</th>\n",
              "      <td>4_0</td>\n",
              "      <td>sms</td>\n",
              "      <td>7GD04E51YZM. Caro Cliente, o codigo para efect...</td>\n",
              "      <td>Legitimate</td>\n",
              "      <td>189</td>\n",
              "      <td>gdeyzm car client codig efectu levant cont mpe...</td>\n",
              "    </tr>\n",
              "    <tr>\n",
              "      <th>4</th>\n",
              "      <td>5_0</td>\n",
              "      <td>sms</td>\n",
              "      <td>Bom dia babe. Está bem. Vou comprar.\\nBoa viagem</td>\n",
              "      <td>Legitimate</td>\n",
              "      <td>47</td>\n",
              "      <td>bom dia bab est bem vou compr boa viag</td>\n",
              "    </tr>\n",
              "  </tbody>\n",
              "</table>\n",
              "</div>\n",
              "    <div class=\"colab-df-buttons\">\n",
              "\n",
              "  <div class=\"colab-df-container\">\n",
              "    <button class=\"colab-df-convert\" onclick=\"convertToInteractive('df-02d90ba8-d729-4cb9-88e5-dd0c96d6f73c')\"\n",
              "            title=\"Convert this dataframe to an interactive table.\"\n",
              "            style=\"display:none;\">\n",
              "\n",
              "  <svg xmlns=\"http://www.w3.org/2000/svg\" height=\"24px\" viewBox=\"0 -960 960 960\">\n",
              "    <path d=\"M120-120v-720h720v720H120Zm60-500h600v-160H180v160Zm220 220h160v-160H400v160Zm0 220h160v-160H400v160ZM180-400h160v-160H180v160Zm440 0h160v-160H620v160ZM180-180h160v-160H180v160Zm440 0h160v-160H620v160Z\"/>\n",
              "  </svg>\n",
              "    </button>\n",
              "\n",
              "  <style>\n",
              "    .colab-df-container {\n",
              "      display:flex;\n",
              "      gap: 12px;\n",
              "    }\n",
              "\n",
              "    .colab-df-convert {\n",
              "      background-color: #E8F0FE;\n",
              "      border: none;\n",
              "      border-radius: 50%;\n",
              "      cursor: pointer;\n",
              "      display: none;\n",
              "      fill: #1967D2;\n",
              "      height: 32px;\n",
              "      padding: 0 0 0 0;\n",
              "      width: 32px;\n",
              "    }\n",
              "\n",
              "    .colab-df-convert:hover {\n",
              "      background-color: #E2EBFA;\n",
              "      box-shadow: 0px 1px 2px rgba(60, 64, 67, 0.3), 0px 1px 3px 1px rgba(60, 64, 67, 0.15);\n",
              "      fill: #174EA6;\n",
              "    }\n",
              "\n",
              "    .colab-df-buttons div {\n",
              "      margin-bottom: 4px;\n",
              "    }\n",
              "\n",
              "    [theme=dark] .colab-df-convert {\n",
              "      background-color: #3B4455;\n",
              "      fill: #D2E3FC;\n",
              "    }\n",
              "\n",
              "    [theme=dark] .colab-df-convert:hover {\n",
              "      background-color: #434B5C;\n",
              "      box-shadow: 0px 1px 3px 1px rgba(0, 0, 0, 0.15);\n",
              "      filter: drop-shadow(0px 1px 2px rgba(0, 0, 0, 0.3));\n",
              "      fill: #FFFFFF;\n",
              "    }\n",
              "  </style>\n",
              "\n",
              "    <script>\n",
              "      const buttonEl =\n",
              "        document.querySelector('#df-02d90ba8-d729-4cb9-88e5-dd0c96d6f73c button.colab-df-convert');\n",
              "      buttonEl.style.display =\n",
              "        google.colab.kernel.accessAllowed ? 'block' : 'none';\n",
              "\n",
              "      async function convertToInteractive(key) {\n",
              "        const element = document.querySelector('#df-02d90ba8-d729-4cb9-88e5-dd0c96d6f73c');\n",
              "        const dataTable =\n",
              "          await google.colab.kernel.invokeFunction('convertToInteractive',\n",
              "                                                    [key], {});\n",
              "        if (!dataTable) return;\n",
              "\n",
              "        const docLinkHtml = 'Like what you see? Visit the ' +\n",
              "          '<a target=\"_blank\" href=https://colab.research.google.com/notebooks/data_table.ipynb>data table notebook</a>'\n",
              "          + ' to learn more about interactive tables.';\n",
              "        element.innerHTML = '';\n",
              "        dataTable['output_type'] = 'display_data';\n",
              "        await google.colab.output.renderOutput(dataTable, element);\n",
              "        const docLink = document.createElement('div');\n",
              "        docLink.innerHTML = docLinkHtml;\n",
              "        element.appendChild(docLink);\n",
              "      }\n",
              "    </script>\n",
              "  </div>\n",
              "\n",
              "\n",
              "    <div id=\"df-173b9139-bde3-4e02-acd0-1fc8fc9ba079\">\n",
              "      <button class=\"colab-df-quickchart\" onclick=\"quickchart('df-173b9139-bde3-4e02-acd0-1fc8fc9ba079')\"\n",
              "                title=\"Suggest charts\"\n",
              "                style=\"display:none;\">\n",
              "\n",
              "<svg xmlns=\"http://www.w3.org/2000/svg\" height=\"24px\"viewBox=\"0 0 24 24\"\n",
              "     width=\"24px\">\n",
              "    <g>\n",
              "        <path d=\"M19 3H5c-1.1 0-2 .9-2 2v14c0 1.1.9 2 2 2h14c1.1 0 2-.9 2-2V5c0-1.1-.9-2-2-2zM9 17H7v-7h2v7zm4 0h-2V7h2v10zm4 0h-2v-4h2v4z\"/>\n",
              "    </g>\n",
              "</svg>\n",
              "      </button>\n",
              "\n",
              "<style>\n",
              "  .colab-df-quickchart {\n",
              "      --bg-color: #E8F0FE;\n",
              "      --fill-color: #1967D2;\n",
              "      --hover-bg-color: #E2EBFA;\n",
              "      --hover-fill-color: #174EA6;\n",
              "      --disabled-fill-color: #AAA;\n",
              "      --disabled-bg-color: #DDD;\n",
              "  }\n",
              "\n",
              "  [theme=dark] .colab-df-quickchart {\n",
              "      --bg-color: #3B4455;\n",
              "      --fill-color: #D2E3FC;\n",
              "      --hover-bg-color: #434B5C;\n",
              "      --hover-fill-color: #FFFFFF;\n",
              "      --disabled-bg-color: #3B4455;\n",
              "      --disabled-fill-color: #666;\n",
              "  }\n",
              "\n",
              "  .colab-df-quickchart {\n",
              "    background-color: var(--bg-color);\n",
              "    border: none;\n",
              "    border-radius: 50%;\n",
              "    cursor: pointer;\n",
              "    display: none;\n",
              "    fill: var(--fill-color);\n",
              "    height: 32px;\n",
              "    padding: 0;\n",
              "    width: 32px;\n",
              "  }\n",
              "\n",
              "  .colab-df-quickchart:hover {\n",
              "    background-color: var(--hover-bg-color);\n",
              "    box-shadow: 0 1px 2px rgba(60, 64, 67, 0.3), 0 1px 3px 1px rgba(60, 64, 67, 0.15);\n",
              "    fill: var(--button-hover-fill-color);\n",
              "  }\n",
              "\n",
              "  .colab-df-quickchart-complete:disabled,\n",
              "  .colab-df-quickchart-complete:disabled:hover {\n",
              "    background-color: var(--disabled-bg-color);\n",
              "    fill: var(--disabled-fill-color);\n",
              "    box-shadow: none;\n",
              "  }\n",
              "\n",
              "  .colab-df-spinner {\n",
              "    border: 2px solid var(--fill-color);\n",
              "    border-color: transparent;\n",
              "    border-bottom-color: var(--fill-color);\n",
              "    animation:\n",
              "      spin 1s steps(1) infinite;\n",
              "  }\n",
              "\n",
              "  @keyframes spin {\n",
              "    0% {\n",
              "      border-color: transparent;\n",
              "      border-bottom-color: var(--fill-color);\n",
              "      border-left-color: var(--fill-color);\n",
              "    }\n",
              "    20% {\n",
              "      border-color: transparent;\n",
              "      border-left-color: var(--fill-color);\n",
              "      border-top-color: var(--fill-color);\n",
              "    }\n",
              "    30% {\n",
              "      border-color: transparent;\n",
              "      border-left-color: var(--fill-color);\n",
              "      border-top-color: var(--fill-color);\n",
              "      border-right-color: var(--fill-color);\n",
              "    }\n",
              "    40% {\n",
              "      border-color: transparent;\n",
              "      border-right-color: var(--fill-color);\n",
              "      border-top-color: var(--fill-color);\n",
              "    }\n",
              "    60% {\n",
              "      border-color: transparent;\n",
              "      border-right-color: var(--fill-color);\n",
              "    }\n",
              "    80% {\n",
              "      border-color: transparent;\n",
              "      border-right-color: var(--fill-color);\n",
              "      border-bottom-color: var(--fill-color);\n",
              "    }\n",
              "    90% {\n",
              "      border-color: transparent;\n",
              "      border-bottom-color: var(--fill-color);\n",
              "    }\n",
              "  }\n",
              "</style>\n",
              "\n",
              "      <script>\n",
              "        async function quickchart(key) {\n",
              "          const quickchartButtonEl =\n",
              "            document.querySelector('#' + key + ' button');\n",
              "          quickchartButtonEl.disabled = true;  // To prevent multiple clicks.\n",
              "          quickchartButtonEl.classList.add('colab-df-spinner');\n",
              "          try {\n",
              "            const charts = await google.colab.kernel.invokeFunction(\n",
              "                'suggestCharts', [key], {});\n",
              "          } catch (error) {\n",
              "            console.error('Error during call to suggestCharts:', error);\n",
              "          }\n",
              "          quickchartButtonEl.classList.remove('colab-df-spinner');\n",
              "          quickchartButtonEl.classList.add('colab-df-quickchart-complete');\n",
              "        }\n",
              "        (() => {\n",
              "          let quickchartButtonEl =\n",
              "            document.querySelector('#df-173b9139-bde3-4e02-acd0-1fc8fc9ba079 button');\n",
              "          quickchartButtonEl.style.display =\n",
              "            google.colab.kernel.accessAllowed ? 'block' : 'none';\n",
              "        })();\n",
              "      </script>\n",
              "    </div>\n",
              "\n",
              "    </div>\n",
              "  </div>\n"
            ],
            "application/vnd.google.colaboratory.intrinsic+json": {
              "type": "dataframe",
              "variable_name": "df",
              "summary": "{\n  \"name\": \"df\",\n  \"rows\": 2561,\n  \"fields\": [\n    {\n      \"column\": \"id\",\n      \"properties\": {\n        \"dtype\": \"string\",\n        \"num_unique_values\": 2561,\n        \"samples\": [\n          \"155_1\",\n          \"1773_0\",\n          \"1195_0\"\n        ],\n        \"semantic_type\": \"\",\n        \"description\": \"\"\n      }\n    },\n    {\n      \"column\": \"source\",\n      \"properties\": {\n        \"dtype\": \"category\",\n        \"num_unique_values\": 2,\n        \"samples\": [\n          \"fb\",\n          \"sms\"\n        ],\n        \"semantic_type\": \"\",\n        \"description\": \"\"\n      }\n    },\n    {\n      \"column\": \"text\",\n      \"properties\": {\n        \"dtype\": \"string\",\n        \"num_unique_values\": 2560,\n        \"samples\": [\n          \"Minha conta tem porblema., transfere neste numero, 853179341, vem em nome de CLARA ANTONIO ROBERTO.\",\n          \"ya, dha pra ver k tas maning nice. e os books?\"\n        ],\n        \"semantic_type\": \"\",\n        \"description\": \"\"\n      }\n    },\n    {\n      \"column\": \"label\",\n      \"properties\": {\n        \"dtype\": \"category\",\n        \"num_unique_values\": 2,\n        \"samples\": [\n          \"Smishing\",\n          \"Legitimate\"\n        ],\n        \"semantic_type\": \"\",\n        \"description\": \"\"\n      }\n    },\n    {\n      \"column\": \"comprimento\",\n      \"properties\": {\n        \"dtype\": \"number\",\n        \"std\": 54,\n        \"min\": 5,\n        \"max\": 477,\n        \"num_unique_values\": 247,\n        \"samples\": [\n          138,\n          164\n        ],\n        \"semantic_type\": \"\",\n        \"description\": \"\"\n      }\n    },\n    {\n      \"column\": \"texto_processado\",\n      \"properties\": {\n        \"dtype\": \"string\",\n        \"num_unique_values\": 2285,\n        \"samples\": [\n          \"melhor mand nr mpes nom d angelin manuel pont nr ating limit\",\n          \"bom dia man peo emprest val mt pud envi mpes\"\n        ],\n        \"semantic_type\": \"\",\n        \"description\": \"\"\n      }\n    }\n  ]\n}"
            }
          },
          "metadata": {},
          "execution_count": 31
        }
      ]
    },
    {
      "cell_type": "markdown",
      "source": [
        "### 2 Divisão de dados para treino e teste"
      ],
      "metadata": {
        "id": "tiZM7g2NJ6a0"
      }
    },
    {
      "cell_type": "code",
      "source": [
        "# Divisão dos dados e vetorização com TF-IDF\n",
        "X = df['texto_processado']\n",
        "y = df['label']\n",
        "\n",
        "X_train, X_test, y_train, y_test = train_test_split(X, y, test_size=0.2, random_state=42, stratify=y)\n",
        "\n",
        "# Limita o vocabulário às 5000 palavras mais frequentes nos dados de treino\n",
        "vectorizer = TfidfVectorizer(max_features=5000)\n",
        "\n",
        "# Aprende o vocabulário dos dados de treino (X_train) e os transforma na matriz TF-IDF\n",
        "X_train_tfidf = vectorizer.fit_transform(X_train)\n",
        "\n",
        "# Transforma os dados de teste (X_test) usando o vocabulário já aprendido com os dados de treino\n",
        "# Obs: Não usar fit() nos dados de teste para evitar vazamento de dados (data leakage)\n",
        "X_test_tfidf = vectorizer.transform(X_test)\n",
        "\n",
        "print(X_train_tfidf.shape)\n",
        "print(X_test_tfidf.shape)\n"
      ],
      "metadata": {
        "id": "TWtCCd34IpN0",
        "outputId": "52ddfa51-84e5-4b03-fa77-4c778db0dd81",
        "colab": {
          "base_uri": "https://localhost:8080/"
        }
      },
      "execution_count": 32,
      "outputs": [
        {
          "output_type": "stream",
          "name": "stdout",
          "text": [
            "(2048, 3349)\n",
            "(513, 3349)\n"
          ]
        }
      ]
    },
    {
      "cell_type": "markdown",
      "source": [
        "## 6. Modelagem com *Machine Learning* Clássico"
      ],
      "metadata": {
        "id": "dXVRBa9PJQKO"
      }
    },
    {
      "cell_type": "markdown",
      "source": [
        "### 6.1  Modelo *Naive Bayes (ComplementNB)*\n",
        "Usamos uma variação do *Naive Bayes* especificamente projetada para datasets desbalanceados"
      ],
      "metadata": {
        "id": "CVMoekQiBdaw"
      }
    },
    {
      "cell_type": "code",
      "source": [
        "cnb_model = ComplementNB()\n",
        "cnb_model.fit(X_train_tfidf, y_train)\n",
        "y_pred_cnb = cnb_model.predict(X_test_tfidf)\n",
        "\n",
        "print(\"Resultados do Complement Naive Bayes:\")\n",
        "print(classification_report(y_test, y_pred_cnb, target_names=['Legítimo', 'Smishing']))"
      ],
      "metadata": {
        "id": "pxfrCt8gBQyl",
        "outputId": "5a99f810-0101-40ea-f573-5dcaefdf5f63",
        "colab": {
          "base_uri": "https://localhost:8080/"
        }
      },
      "execution_count": 33,
      "outputs": [
        {
          "output_type": "stream",
          "name": "stdout",
          "text": [
            "Resultados do Complement Naive Bayes:\n",
            "              precision    recall  f1-score   support\n",
            "\n",
            "    Legítimo       1.00      0.93      0.96       402\n",
            "    Smishing       0.80      0.99      0.89       111\n",
            "\n",
            "    accuracy                           0.95       513\n",
            "   macro avg       0.90      0.96      0.93       513\n",
            "weighted avg       0.96      0.95      0.95       513\n",
            "\n"
          ]
        }
      ]
    },
    {
      "cell_type": "markdown",
      "source": [
        "### 6.2 Modelo *Random Forest*\n",
        "\n",
        "Usamos o parâmetro *class_weight='balanced'* para fazer o ajuste de pesos devido ao desbalanceamento do dataset"
      ],
      "metadata": {
        "id": "Na_fzBzc-VVg"
      }
    },
    {
      "cell_type": "code",
      "source": [
        "# Treinamento e Avaliação do Random Forest\n",
        "rf_model = RandomForestClassifier(\n",
        "    n_estimators=100,\n",
        "    random_state=42,\n",
        "    n_jobs=-1,\n",
        "    class_weight='balanced'\n",
        ")\n",
        "rf_model.fit(X_train_tfidf, y_train)\n",
        "y_pred_rf = rf_model.predict(X_test_tfidf)\n",
        "\n",
        "print(\"Resultados do Random Forest:\")\n",
        "print(classification_report(y_test, y_pred_rf, target_names=['Legítimo', 'Smishing']))"
      ],
      "metadata": {
        "id": "xmBPJe1e-ckF",
        "outputId": "1049acb1-f7f0-4db0-fb00-3631f355c5e3",
        "colab": {
          "base_uri": "https://localhost:8080/"
        }
      },
      "execution_count": 34,
      "outputs": [
        {
          "output_type": "stream",
          "name": "stdout",
          "text": [
            "Resultados do Random Forest:\n",
            "              precision    recall  f1-score   support\n",
            "\n",
            "    Legítimo       0.99      0.99      0.99       402\n",
            "    Smishing       0.95      0.95      0.95       111\n",
            "\n",
            "    accuracy                           0.98       513\n",
            "   macro avg       0.97      0.97      0.97       513\n",
            "weighted avg       0.98      0.98      0.98       513\n",
            "\n"
          ]
        }
      ]
    },
    {
      "cell_type": "markdown",
      "source": [
        "## 7. Armazena os modelos treinados"
      ],
      "metadata": {
        "id": "AmcuZKxXMOn1"
      }
    },
    {
      "cell_type": "code",
      "source": [
        "# Define o caminho da pasta de modelos\n",
        "models_path = f\"{project_path}models/\""
      ],
      "metadata": {
        "id": "wHNW9OwaMc2C"
      },
      "execution_count": 35,
      "outputs": []
    },
    {
      "cell_type": "code",
      "source": [
        "# Salva o modelo Complement Naive Bayes\n",
        "joblib.dump(cnb_model, f\"{models_path}complement_naive_bayes.pkl\")\n",
        "print(f\"Modelo Naive Bayes salvo com sucesso na pasta: {models_path}\")"
      ],
      "metadata": {
        "id": "7Bcx97HONdM7",
        "outputId": "b96671fd-2560-4965-b018-f0278d76f8f1",
        "colab": {
          "base_uri": "https://localhost:8080/"
        }
      },
      "execution_count": 36,
      "outputs": [
        {
          "output_type": "stream",
          "name": "stdout",
          "text": [
            "Modelo Naive Bayes salvo com sucesso na pasta: /content/drive/MyDrive/tcc/models/\n"
          ]
        }
      ]
    },
    {
      "cell_type": "code",
      "source": [
        "# Salva o modelo Random Forest\n",
        "joblib.dump(rf_model, f\"{models_path}random_forest.pkl\")\n",
        "print(f\"Modelo Random Forest salvo com sucesso na pasta: {models_path}\")"
      ],
      "metadata": {
        "id": "JQHbE8VhNhfE",
        "outputId": "6fa73cb3-8604-4a9c-831f-43d89306e9cb",
        "colab": {
          "base_uri": "https://localhost:8080/"
        }
      },
      "execution_count": 37,
      "outputs": [
        {
          "output_type": "stream",
          "name": "stdout",
          "text": [
            "Modelo Random Forest salvo com sucesso na pasta: /content/drive/MyDrive/tcc/models/\n"
          ]
        }
      ]
    },
    {
      "cell_type": "code",
      "source": [
        "# Salva TfidfVectorizer\n",
        "joblib.dump(vectorizer, f\"{models_path}tfidf_vectorizer.pkl\")\n",
        "print(f\"Objeto TfidfVectorizer salvo com sucesso na pasta: {models_path}\")"
      ],
      "metadata": {
        "id": "sE3lrLsINjIA",
        "outputId": "78dda9e2-d302-4941-96aa-6b13522ea0df",
        "colab": {
          "base_uri": "https://localhost:8080/"
        }
      },
      "execution_count": 38,
      "outputs": [
        {
          "output_type": "stream",
          "name": "stdout",
          "text": [
            "Objeto TfidfVectorizer salvo com sucesso na pasta: /content/drive/MyDrive/tcc/models/\n"
          ]
        }
      ]
    },
    {
      "cell_type": "markdown",
      "source": [
        "## 8. Armazena as métricas"
      ],
      "metadata": {
        "id": "JLCjSHSVMOkj"
      }
    },
    {
      "cell_type": "code",
      "source": [
        "# Define o caminho da pasta de output\n",
        "outputs_path  = f\"{project_path}output/\""
      ],
      "metadata": {
        "id": "eBo80V4ZMb6J"
      },
      "execution_count": 39,
      "outputs": []
    }
  ]
}